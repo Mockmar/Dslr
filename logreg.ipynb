{
 "cells": [
  {
   "cell_type": "code",
   "execution_count": 79,
   "metadata": {},
   "outputs": [],
   "source": [
    "import pandas as pd\n",
    "import numpy as np\n",
    "from sklearn.model_selection import train_test_split\n",
    "from sklearn.preprocessing import StandardScaler\n",
    "from sklearn.linear_model import LogisticRegression\n",
    "from sklearn.metrics import accuracy_score"
   ]
  },
  {
   "cell_type": "code",
   "execution_count": 80,
   "metadata": {},
   "outputs": [
    {
     "name": "stdout",
     "output_type": "stream",
     "text": [
      "(1600, 19)\n"
     ]
    }
   ],
   "source": [
    "\n",
    "# 1️⃣ Charger les données (remplace \"dataset.csv\" par ton fichier)\n",
    "df = pd.read_csv('./datasets/dataset_train.csv')\n",
    "print(df.shape)"
   ]
  },
  {
   "cell_type": "code",
   "execution_count": 81,
   "metadata": {},
   "outputs": [
    {
     "name": "stdout",
     "output_type": "stream",
     "text": [
      "(1251, 18)\n"
     ]
    }
   ],
   "source": [
    "df.dropna(inplace=True,axis=0)\n",
    "df.drop(columns=['Index'], inplace=True)\n",
    "print(df.shape)\n"
   ]
  },
  {
   "cell_type": "code",
   "execution_count": 82,
   "metadata": {},
   "outputs": [
    {
     "data": {
      "text/html": [
       "<div>\n",
       "<style scoped>\n",
       "    .dataframe tbody tr th:only-of-type {\n",
       "        vertical-align: middle;\n",
       "    }\n",
       "\n",
       "    .dataframe tbody tr th {\n",
       "        vertical-align: top;\n",
       "    }\n",
       "\n",
       "    .dataframe thead th {\n",
       "        text-align: right;\n",
       "    }\n",
       "</style>\n",
       "<table border=\"1\" class=\"dataframe\">\n",
       "  <thead>\n",
       "    <tr style=\"text-align: right;\">\n",
       "      <th></th>\n",
       "      <th>Hogwarts House</th>\n",
       "      <th>First Name</th>\n",
       "      <th>Last Name</th>\n",
       "      <th>Birthday</th>\n",
       "      <th>Best Hand</th>\n",
       "      <th>Arithmancy</th>\n",
       "      <th>Astronomy</th>\n",
       "      <th>Herbology</th>\n",
       "      <th>Defense Against the Dark Arts</th>\n",
       "      <th>Divination</th>\n",
       "      <th>Muggle Studies</th>\n",
       "      <th>Ancient Runes</th>\n",
       "      <th>History of Magic</th>\n",
       "      <th>Transfiguration</th>\n",
       "      <th>Potions</th>\n",
       "      <th>Care of Magical Creatures</th>\n",
       "      <th>Charms</th>\n",
       "      <th>Flying</th>\n",
       "    </tr>\n",
       "  </thead>\n",
       "  <tbody>\n",
       "    <tr>\n",
       "      <th>685</th>\n",
       "      <td>Slytherin</td>\n",
       "      <td>Mina</td>\n",
       "      <td>Belanger</td>\n",
       "      <td>2000-01-25</td>\n",
       "      <td>Right</td>\n",
       "      <td>42907.0</td>\n",
       "      <td>-568.839699</td>\n",
       "      <td>-1.010892</td>\n",
       "      <td>5.688397</td>\n",
       "      <td>-5.009</td>\n",
       "      <td>-529.136268</td>\n",
       "      <td>413.130098</td>\n",
       "      <td>2.239366</td>\n",
       "      <td>1043.390838</td>\n",
       "      <td>6.931681</td>\n",
       "      <td>-0.770499</td>\n",
       "      <td>-247.53932</td>\n",
       "      <td>2.07</td>\n",
       "    </tr>\n",
       "  </tbody>\n",
       "</table>\n",
       "</div>"
      ],
      "text/plain": [
       "    Hogwarts House First Name Last Name    Birthday Best Hand  Arithmancy  \\\n",
       "685      Slytherin       Mina  Belanger  2000-01-25     Right     42907.0   \n",
       "\n",
       "      Astronomy  Herbology  Defense Against the Dark Arts  Divination  \\\n",
       "685 -568.839699  -1.010892                       5.688397      -5.009   \n",
       "\n",
       "     Muggle Studies  Ancient Runes  History of Magic  Transfiguration  \\\n",
       "685     -529.136268     413.130098          2.239366      1043.390838   \n",
       "\n",
       "      Potions  Care of Magical Creatures     Charms  Flying  \n",
       "685  6.931681                  -0.770499 -247.53932    2.07  "
      ]
     },
     "execution_count": 82,
     "metadata": {},
     "output_type": "execute_result"
    }
   ],
   "source": [
    "# Sélectionner une ligne aléatoire\n",
    "random_row = df.sample(n=1)\n",
    "\n",
    "# Supprimer cette ligne du dataframe original\n",
    "df.drop(random_row.index, inplace=True)\n",
    "\n",
    "# Afficher la ligne aléatoire sélectionnée\n",
    "random_row"
   ]
  },
  {
   "cell_type": "code",
   "execution_count": 83,
   "metadata": {},
   "outputs": [
    {
     "name": "stdout",
     "output_type": "stream",
     "text": [
      "(1250, 18)\n"
     ]
    }
   ],
   "source": [
    "print(df.shape)"
   ]
  },
  {
   "cell_type": "code",
   "execution_count": 84,
   "metadata": {},
   "outputs": [],
   "source": [
    "\n",
    "# 2️⃣ Sélectionner les features pertinentes\n",
    "features = [\"Defense Against the Dark Arts\", \"Transfiguration\", \"Herbology\", \"Potions\", \"Ancient Runes\"]\n",
    "# features = df.select_dtypes(include=['float64', 'int64']).columns.tolist()\n",
    "X = df[features]\n",
    "y = df[\"Hogwarts House\"]  # La variable cible\n"
   ]
  },
  {
   "cell_type": "code",
   "execution_count": 85,
   "metadata": {},
   "outputs": [],
   "source": [
    "\n",
    "# 3️⃣ Normalisation des données\n",
    "scaler = StandardScaler()\n",
    "X_scaled = scaler.fit_transform(X)\n"
   ]
  },
  {
   "cell_type": "code",
   "execution_count": 86,
   "metadata": {},
   "outputs": [
    {
     "name": "stdout",
     "output_type": "stream",
     "text": [
      "🎯 Accuracy: 98.80%\n"
     ]
    },
    {
     "name": "stderr",
     "output_type": "stream",
     "text": [
      "/home/jgautier/.local/lib/python3.10/site-packages/sklearn/linear_model/_logistic.py:1256: FutureWarning: 'multi_class' was deprecated in version 1.5 and will be removed in 1.7. Use OneVsRestClassifier(LogisticRegression(..)) instead. Leave it to its default value to avoid this warning.\n",
      "  warnings.warn(\n"
     ]
    }
   ],
   "source": [
    "\n",
    "# 4️⃣ Séparation des données en train/test\n",
    "X_train, X_test, y_train, y_test = train_test_split(X_scaled, y, test_size=0.2, random_state=42)\n",
    "\n",
    "# 5️⃣ Entraîner le modèle One-vs-All\n",
    "model = LogisticRegression(multi_class=\"ovr\", solver=\"lbfgs\", max_iter=1000)\n",
    "model.fit(X_train, y_train)\n",
    "\n",
    "# 6️⃣ Prédictions\n",
    "y_pred = model.predict(X_test)\n",
    "\n",
    "with open(\"y_pred.txt\", \"w\") as file:\n",
    "    file.write(f\"test, pred\\n\")\n",
    "    for pred, test in zip(y_pred, y_test):\n",
    "        file.write(f\"{test}, {pred}\\n\")\n",
    "\n",
    "# 7️⃣ Évaluation du modèle\n",
    "accuracy = accuracy_score(y_test, y_pred)\n",
    "print(f\"🎯 Accuracy: {accuracy:.2%}\")\n"
   ]
  },
  {
   "cell_type": "code",
   "execution_count": 98,
   "metadata": {},
   "outputs": [
    {
     "name": "stdout",
     "output_type": "stream",
     "text": [
      "[[ 5.68839699e+00  1.04339084e+03 -1.01089241e+00  6.93168148e+00\n",
      "   4.13130098e+02]]\n",
      "[[ 1.18275695  0.30783126 -0.42163677  0.31300222 -0.77975441]]\n"
     ]
    },
    {
     "name": "stderr",
     "output_type": "stream",
     "text": [
      "/home/jgautier/.local/lib/python3.10/site-packages/sklearn/utils/validation.py:2739: UserWarning: X does not have valid feature names, but StandardScaler was fitted with feature names\n",
      "  warnings.warn(\n"
     ]
    }
   ],
   "source": [
    "feature_tets = random_row[features].values\n",
    "print(feature_tets)\n",
    "feature_tets_scaled = scaler.transform(feature_tets)\n",
    "print(feature_tets_scaled)\n"
   ]
  },
  {
   "cell_type": "code",
   "execution_count": 99,
   "metadata": {},
   "outputs": [
    {
     "name": "stdout",
     "output_type": "stream",
     "text": [
      "Prediction: Slytherin\n"
     ]
    }
   ],
   "source": [
    "test_pred = model.predict(feature_tets_scaled)\n",
    "print(f\"Prediction: {test_pred[0]}\")"
   ]
  },
  {
   "cell_type": "code",
   "execution_count": null,
   "metadata": {},
   "outputs": [],
   "source": []
  }
 ],
 "metadata": {
  "kernelspec": {
   "display_name": "Python 3",
   "language": "python",
   "name": "python3"
  },
  "language_info": {
   "codemirror_mode": {
    "name": "ipython",
    "version": 3
   },
   "file_extension": ".py",
   "mimetype": "text/x-python",
   "name": "python",
   "nbconvert_exporter": "python",
   "pygments_lexer": "ipython3",
   "version": "3.10.14"
  }
 },
 "nbformat": 4,
 "nbformat_minor": 2
}
