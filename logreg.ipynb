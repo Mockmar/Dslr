{
 "cells": [
  {
   "cell_type": "code",
   "execution_count": 43,
   "metadata": {},
   "outputs": [],
   "source": [
    "import pandas as pd\n",
    "import numpy as np\n",
    "from sklearn.model_selection import train_test_split\n",
    "from sklearn.preprocessing import StandardScaler\n",
    "from sklearn.linear_model import LogisticRegression\n",
    "from sklearn.metrics import accuracy_score"
   ]
  },
  {
   "cell_type": "code",
   "execution_count": 44,
   "metadata": {},
   "outputs": [
    {
     "name": "stdout",
     "output_type": "stream",
     "text": [
      "(1600, 19)\n"
     ]
    }
   ],
   "source": [
    "\n",
    "# 1️⃣ Charger les données (remplace \"dataset.csv\" par ton fichier)\n",
    "df = pd.read_csv('./datasets/dataset_train.csv')\n",
    "print(df.shape)"
   ]
  },
  {
   "cell_type": "code",
   "execution_count": 45,
   "metadata": {},
   "outputs": [
    {
     "name": "stdout",
     "output_type": "stream",
     "text": [
      "(1251, 18)\n"
     ]
    }
   ],
   "source": [
    "df.dropna(inplace=True,axis=0)\n",
    "df.drop(columns=['Index'], inplace=True)\n",
    "print(df.shape)\n"
   ]
  },
  {
   "cell_type": "code",
   "execution_count": 46,
   "metadata": {},
   "outputs": [
    {
     "data": {
      "text/html": [
       "<div>\n",
       "<style scoped>\n",
       "    .dataframe tbody tr th:only-of-type {\n",
       "        vertical-align: middle;\n",
       "    }\n",
       "\n",
       "    .dataframe tbody tr th {\n",
       "        vertical-align: top;\n",
       "    }\n",
       "\n",
       "    .dataframe thead th {\n",
       "        text-align: right;\n",
       "    }\n",
       "</style>\n",
       "<table border=\"1\" class=\"dataframe\">\n",
       "  <thead>\n",
       "    <tr style=\"text-align: right;\">\n",
       "      <th></th>\n",
       "      <th>Hogwarts House</th>\n",
       "      <th>First Name</th>\n",
       "      <th>Last Name</th>\n",
       "      <th>Birthday</th>\n",
       "      <th>Best Hand</th>\n",
       "      <th>Arithmancy</th>\n",
       "      <th>Astronomy</th>\n",
       "      <th>Herbology</th>\n",
       "      <th>Defense Against the Dark Arts</th>\n",
       "      <th>Divination</th>\n",
       "      <th>Muggle Studies</th>\n",
       "      <th>Ancient Runes</th>\n",
       "      <th>History of Magic</th>\n",
       "      <th>Transfiguration</th>\n",
       "      <th>Potions</th>\n",
       "      <th>Care of Magical Creatures</th>\n",
       "      <th>Charms</th>\n",
       "      <th>Flying</th>\n",
       "    </tr>\n",
       "  </thead>\n",
       "  <tbody>\n",
       "    <tr>\n",
       "      <th>601</th>\n",
       "      <td>Ravenclaw</td>\n",
       "      <td>Ignacio</td>\n",
       "      <td>Nagy</td>\n",
       "      <td>2000-06-23</td>\n",
       "      <td>Right</td>\n",
       "      <td>47484.0</td>\n",
       "      <td>-739.454637</td>\n",
       "      <td>3.820398</td>\n",
       "      <td>7.394546</td>\n",
       "      <td>2.78</td>\n",
       "      <td>437.137959</td>\n",
       "      <td>579.129076</td>\n",
       "      <td>6.014226</td>\n",
       "      <td>1043.941479</td>\n",
       "      <td>7.46229</td>\n",
       "      <td>-1.40703</td>\n",
       "      <td>-231.38048</td>\n",
       "      <td>-23.2</td>\n",
       "    </tr>\n",
       "  </tbody>\n",
       "</table>\n",
       "</div>"
      ],
      "text/plain": [
       "    Hogwarts House First Name Last Name    Birthday Best Hand  Arithmancy  \\\n",
       "601      Ravenclaw    Ignacio      Nagy  2000-06-23     Right     47484.0   \n",
       "\n",
       "      Astronomy  Herbology  Defense Against the Dark Arts  Divination  \\\n",
       "601 -739.454637   3.820398                       7.394546        2.78   \n",
       "\n",
       "     Muggle Studies  Ancient Runes  History of Magic  Transfiguration  \\\n",
       "601      437.137959     579.129076          6.014226      1043.941479   \n",
       "\n",
       "     Potions  Care of Magical Creatures     Charms  Flying  \n",
       "601  7.46229                   -1.40703 -231.38048   -23.2  "
      ]
     },
     "execution_count": 46,
     "metadata": {},
     "output_type": "execute_result"
    }
   ],
   "source": [
    "# Sélectionner une ligne aléatoire\n",
    "random_row = df.sample(n=1)\n",
    "\n",
    "# Supprimer cette ligne du dataframe original\n",
    "df.drop(random_row.index, inplace=True)\n",
    "\n",
    "# Afficher la ligne aléatoire sélectionnée\n",
    "random_row"
   ]
  },
  {
   "cell_type": "code",
   "execution_count": 47,
   "metadata": {},
   "outputs": [
    {
     "name": "stdout",
     "output_type": "stream",
     "text": [
      "(1250, 18)\n"
     ]
    }
   ],
   "source": [
    "print(df.shape)"
   ]
  },
  {
   "cell_type": "code",
   "execution_count": 48,
   "metadata": {},
   "outputs": [
    {
     "name": "stdout",
     "output_type": "stream",
     "text": [
      "(1250, 13) (1250,)\n"
     ]
    }
   ],
   "source": [
    "\n",
    "# 2️⃣ Sélectionner les features pertinentes\n",
    "# features = [\"Defense Against the Dark Arts\", \"Transfiguration\", \"Herbology\", \"Potions\", \"Ancient Runes\"]\n",
    "features = df.select_dtypes(include=['float64', 'int64']).columns.tolist()\n",
    "X = df[features]\n",
    "y = df[\"Hogwarts House\"]  # La variable cible\n",
    "print(X.shape, y.shape)\n"
   ]
  },
  {
   "cell_type": "code",
   "execution_count": 49,
   "metadata": {},
   "outputs": [],
   "source": [
    "\n",
    "# 3️⃣ Normalisation des données\n",
    "scaler = StandardScaler()\n",
    "X_scaled = scaler.fit_transform(X)\n"
   ]
  },
  {
   "cell_type": "code",
   "execution_count": 50,
   "metadata": {},
   "outputs": [
    {
     "name": "stdout",
     "output_type": "stream",
     "text": [
      "🎯 Accuracy: 98.80%\n"
     ]
    },
    {
     "name": "stderr",
     "output_type": "stream",
     "text": [
      "/home/jgautier/.local/lib/python3.10/site-packages/sklearn/linear_model/_logistic.py:1256: FutureWarning: 'multi_class' was deprecated in version 1.5 and will be removed in 1.7. Use OneVsRestClassifier(LogisticRegression(..)) instead. Leave it to its default value to avoid this warning.\n",
      "  warnings.warn(\n"
     ]
    }
   ],
   "source": [
    "\n",
    "# 4️⃣ Séparation des données en train/test\n",
    "X_train, X_test, y_train, y_test = train_test_split(X_scaled, y, test_size=0.2, random_state=42)\n",
    "\n",
    "# 5️⃣ Entraîner le modèle One-vs-All\n",
    "model = LogisticRegression(multi_class=\"ovr\", solver=\"lbfgs\", max_iter=1000)\n",
    "model.fit(X_train, y_train)\n",
    "\n",
    "# 6️⃣ Prédictions\n",
    "y_pred = model.predict(X_test)\n",
    "\n",
    "with open(\"y_pred.txt\", \"w\") as file:\n",
    "    file.write(f\"test, pred\\n\")\n",
    "    for pred, test in zip(y_pred, y_test):\n",
    "        file.write(f\"{test}, {pred}\\n\")\n",
    "\n",
    "# 7️⃣ Évaluation du modèle\n",
    "accuracy = accuracy_score(y_test, y_pred)\n",
    "print(f\"🎯 Accuracy: {accuracy:.2%}\")\n"
   ]
  },
  {
   "cell_type": "code",
   "execution_count": 51,
   "metadata": {},
   "outputs": [
    {
     "name": "stdout",
     "output_type": "stream",
     "text": [
      "[[ 4.74840000e+04 -7.39454637e+02  3.82039834e+00  7.39454637e+00\n",
      "   2.78000000e+00  4.37137959e+02  5.79129076e+02  6.01422631e+00\n",
      "   1.04394148e+03  7.46229017e+00 -1.40703048e+00 -2.31380480e+02\n",
      "  -2.32000000e+01]]\n",
      "[[-0.11799476 -1.51124559  0.50416314  1.51124559 -0.10561431  1.36305006\n",
      "   0.7774668   0.68177045  0.32036221  0.48417525 -1.3826357   1.36098909\n",
      "  -0.47414672]]\n"
     ]
    },
    {
     "name": "stderr",
     "output_type": "stream",
     "text": [
      "/home/jgautier/.local/lib/python3.10/site-packages/sklearn/utils/validation.py:2739: UserWarning: X does not have valid feature names, but StandardScaler was fitted with feature names\n",
      "  warnings.warn(\n"
     ]
    }
   ],
   "source": [
    "feature_tets = random_row[features].values\n",
    "print(feature_tets)\n",
    "feature_tets_scaled = scaler.transform(feature_tets)\n",
    "print(feature_tets_scaled)\n"
   ]
  },
  {
   "cell_type": "code",
   "execution_count": null,
   "metadata": {},
   "outputs": [
    {
     "name": "stdout",
     "output_type": "stream",
     "text": [
      "Prediction: Ravenclaw\n"
     ]
    }
   ],
   "source": [
    "test_pred = model.predict(feature_tets_scaled)\n",
    "print(f\"Prediction: {test_pred[0]}\")"
   ]
  },
  {
   "cell_type": "code",
   "execution_count": 53,
   "metadata": {},
   "outputs": [
    {
     "data": {
      "text/plain": [
       "array([[-0.14958016,  0.30181384, -0.97480441, -0.30181384,  1.09966065,\n",
       "        -0.26693127,  1.02457927, -0.51091893, -1.20398813, -0.05145651,\n",
       "        -0.00794398, -0.14308356,  0.74212572],\n",
       "       [ 0.21713469,  1.28210571,  1.59501731, -1.28210571,  0.38784568,\n",
       "        -0.84767651, -1.3269499 ,  0.89563959,  0.60154311, -0.41766014,\n",
       "         0.07959232, -0.05529462, -0.32357844],\n",
       "       [ 0.09361539, -0.79228793,  0.41486363,  0.79228793,  0.24051721,\n",
       "         1.47178588,  0.83371469,  0.17895437, -0.08389997, -0.21628123,\n",
       "        -0.07771055,  0.97864744, -0.0980435 ],\n",
       "       [-0.07292958, -0.7754538 , -0.35186418,  0.7754538 , -1.74430744,\n",
       "        -0.87847255, -0.52747585, -0.24166145,  0.78084294,  1.03349095,\n",
       "        -0.08731514, -0.55696321, -0.13211939]])"
      ]
     },
     "execution_count": 53,
     "metadata": {},
     "output_type": "execute_result"
    }
   ],
   "source": [
    "model.coef_"
   ]
  },
  {
   "cell_type": "code",
   "execution_count": 54,
   "metadata": {},
   "outputs": [],
   "source": [
    "tmp = LogisticRegression(multi_class=\"ovr\", solver=\"lbfgs\", max_iter=1000)\n",
    "tmp.coef_ = model.coef_"
   ]
  },
  {
   "cell_type": "code",
   "execution_count": 55,
   "metadata": {},
   "outputs": [
    {
     "ename": "AttributeError",
     "evalue": "'LogisticRegression' object has no attribute 'intercept_'",
     "output_type": "error",
     "traceback": [
      "\u001b[0;31m---------------------------------------------------------------------------\u001b[0m",
      "\u001b[0;31mAttributeError\u001b[0m                            Traceback (most recent call last)",
      "Cell \u001b[0;32mIn[55], line 1\u001b[0m\n\u001b[0;32m----> 1\u001b[0m test_pred \u001b[38;5;241m=\u001b[39m \u001b[43mtmp\u001b[49m\u001b[38;5;241;43m.\u001b[39;49m\u001b[43mpredict\u001b[49m\u001b[43m(\u001b[49m\u001b[43mfeature_tets_scaled\u001b[49m\u001b[43m)\u001b[49m\n\u001b[1;32m      2\u001b[0m \u001b[38;5;28mprint\u001b[39m(\u001b[38;5;124mf\u001b[39m\u001b[38;5;124m\"\u001b[39m\u001b[38;5;124mPrediction: \u001b[39m\u001b[38;5;132;01m{\u001b[39;00mtest_pred[\u001b[38;5;241m0\u001b[39m]\u001b[38;5;132;01m}\u001b[39;00m\u001b[38;5;124m\"\u001b[39m)\n",
      "File \u001b[0;32m~/.local/lib/python3.10/site-packages/sklearn/linear_model/_base.py:374\u001b[0m, in \u001b[0;36mLinearClassifierMixin.predict\u001b[0;34m(self, X)\u001b[0m\n\u001b[1;32m    360\u001b[0m \u001b[38;5;124;03m\"\"\"\u001b[39;00m\n\u001b[1;32m    361\u001b[0m \u001b[38;5;124;03mPredict class labels for samples in X.\u001b[39;00m\n\u001b[1;32m    362\u001b[0m \n\u001b[0;32m   (...)\u001b[0m\n\u001b[1;32m    371\u001b[0m \u001b[38;5;124;03m    Vector containing the class labels for each sample.\u001b[39;00m\n\u001b[1;32m    372\u001b[0m \u001b[38;5;124;03m\"\"\"\u001b[39;00m\n\u001b[1;32m    373\u001b[0m xp, _ \u001b[38;5;241m=\u001b[39m get_namespace(X)\n\u001b[0;32m--> 374\u001b[0m scores \u001b[38;5;241m=\u001b[39m \u001b[38;5;28;43mself\u001b[39;49m\u001b[38;5;241;43m.\u001b[39;49m\u001b[43mdecision_function\u001b[49m\u001b[43m(\u001b[49m\u001b[43mX\u001b[49m\u001b[43m)\u001b[49m\n\u001b[1;32m    375\u001b[0m \u001b[38;5;28;01mif\u001b[39;00m \u001b[38;5;28mlen\u001b[39m(scores\u001b[38;5;241m.\u001b[39mshape) \u001b[38;5;241m==\u001b[39m \u001b[38;5;241m1\u001b[39m:\n\u001b[1;32m    376\u001b[0m     indices \u001b[38;5;241m=\u001b[39m xp\u001b[38;5;241m.\u001b[39mastype(scores \u001b[38;5;241m>\u001b[39m \u001b[38;5;241m0\u001b[39m, indexing_dtype(xp))\n",
      "File \u001b[0;32m~/.local/lib/python3.10/site-packages/sklearn/linear_model/_base.py:352\u001b[0m, in \u001b[0;36mLinearClassifierMixin.decision_function\u001b[0;34m(self, X)\u001b[0m\n\u001b[1;32m    349\u001b[0m xp, _ \u001b[38;5;241m=\u001b[39m get_namespace(X)\n\u001b[1;32m    351\u001b[0m X \u001b[38;5;241m=\u001b[39m validate_data(\u001b[38;5;28mself\u001b[39m, X, accept_sparse\u001b[38;5;241m=\u001b[39m\u001b[38;5;124m\"\u001b[39m\u001b[38;5;124mcsr\u001b[39m\u001b[38;5;124m\"\u001b[39m, reset\u001b[38;5;241m=\u001b[39m\u001b[38;5;28;01mFalse\u001b[39;00m)\n\u001b[0;32m--> 352\u001b[0m scores \u001b[38;5;241m=\u001b[39m safe_sparse_dot(X, \u001b[38;5;28mself\u001b[39m\u001b[38;5;241m.\u001b[39mcoef_\u001b[38;5;241m.\u001b[39mT, dense_output\u001b[38;5;241m=\u001b[39m\u001b[38;5;28;01mTrue\u001b[39;00m) \u001b[38;5;241m+\u001b[39m \u001b[38;5;28;43mself\u001b[39;49m\u001b[38;5;241;43m.\u001b[39;49m\u001b[43mintercept_\u001b[49m\n\u001b[1;32m    353\u001b[0m \u001b[38;5;28;01mreturn\u001b[39;00m (\n\u001b[1;32m    354\u001b[0m     xp\u001b[38;5;241m.\u001b[39mreshape(scores, (\u001b[38;5;241m-\u001b[39m\u001b[38;5;241m1\u001b[39m,))\n\u001b[1;32m    355\u001b[0m     \u001b[38;5;28;01mif\u001b[39;00m (scores\u001b[38;5;241m.\u001b[39mndim \u001b[38;5;241m>\u001b[39m \u001b[38;5;241m1\u001b[39m \u001b[38;5;129;01mand\u001b[39;00m scores\u001b[38;5;241m.\u001b[39mshape[\u001b[38;5;241m1\u001b[39m] \u001b[38;5;241m==\u001b[39m \u001b[38;5;241m1\u001b[39m)\n\u001b[1;32m    356\u001b[0m     \u001b[38;5;28;01melse\u001b[39;00m scores\n\u001b[1;32m    357\u001b[0m )\n",
      "\u001b[0;31mAttributeError\u001b[0m: 'LogisticRegression' object has no attribute 'intercept_'"
     ]
    }
   ],
   "source": [
    "test_pred = tmp.predict(feature_tets_scaled)\n",
    "print(f\"Prediction: {test_pred[0]}\")"
   ]
  },
  {
   "cell_type": "code",
   "execution_count": null,
   "metadata": {},
   "outputs": [],
   "source": [
    "import numpy as np\n",
    "\n",
    "class LogisticRegressionOVR:\n",
    "    def __init__(self, learning_rate=0.01, max_iter=1000):\n",
    "        self.learning_rate = learning_rate\n",
    "        self.max_iter = max_iter\n",
    "        self.thetas = None  # Matrice des poids (une ligne par classe)\n",
    "\n",
    "    def sigmoid(self, z):\n",
    "        return 1 / (1 + np.exp(-z))\n",
    "\n",
    "    def cost_function(self, X, y, theta):\n",
    "        \"\"\" Fonction de coût logistique \"\"\"\n",
    "        m = len(y)\n",
    "        h = self.sigmoid(X @ theta)\n",
    "        return (-1 / m) * np.sum(y * np.log(h) + (1 - y) * np.log(1 - h))\n",
    "\n",
    "    def gradient_descent(self, X, y, theta):\n",
    "        \"\"\" Descente de gradient \"\"\"\n",
    "        m = len(y)\n",
    "        for _ in range(self.max_iter):\n",
    "            gradient = (1 / m) * (X.T @ (self.sigmoid(X @ theta) - y))\n",
    "            theta -= self.learning_rate * gradient\n",
    "        return theta\n",
    "\n",
    "    def fit(self, X, y):\n",
    "        \"\"\" Entraînement One-vs-All \"\"\"\n",
    "        m, n = X.shape\n",
    "        classes = np.unique(y)\n",
    "        self.thetas = np.zeros((len(classes), n))\n",
    "\n",
    "        for i, c in enumerate(classes):\n",
    "            y_binary = (y == c).astype(int)  # Convertir en classification binaire\n",
    "            theta = np.zeros(n)  # Initialiser theta à 0\n",
    "            self.thetas[i] = self.gradient_descent(X, y_binary, theta)\n",
    "\n",
    "    def predict(self, X):\n",
    "        \"\"\" Prédiction de la classe la plus probable \"\"\"\n",
    "        probs = self.sigmoid(X @ self.thetas.T)  # Prédictions pour chaque classe\n",
    "        return np.argmax(probs, axis=1)  # Retourne l'indice de la classe avec la proba max"
   ]
  }
 ],
 "metadata": {
  "kernelspec": {
   "display_name": "Python 3",
   "language": "python",
   "name": "python3"
  },
  "language_info": {
   "codemirror_mode": {
    "name": "ipython",
    "version": 3
   },
   "file_extension": ".py",
   "mimetype": "text/x-python",
   "name": "python",
   "nbconvert_exporter": "python",
   "pygments_lexer": "ipython3",
   "version": "3.10.14"
  }
 },
 "nbformat": 4,
 "nbformat_minor": 2
}
