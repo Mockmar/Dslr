{
 "cells": [
  {
   "cell_type": "code",
   "execution_count": null,
   "metadata": {},
   "outputs": [],
   "source": [
    "import pandas as pd"
   ]
  },
  {
   "cell_type": "code",
   "execution_count": null,
   "metadata": {},
   "outputs": [],
   "source": [
    "df = pd.read_csv('./datasets/dataset_train.csv')"
   ]
  },
  {
   "cell_type": "code",
   "execution_count": null,
   "metadata": {},
   "outputs": [],
   "source": [
    "df.dropna(inplace=True,axis=0)"
   ]
  },
  {
   "cell_type": "code",
   "execution_count": null,
   "metadata": {},
   "outputs": [],
   "source": [
    "df.drop(columns=['Index'], inplace=True)"
   ]
  },
  {
   "cell_type": "code",
   "execution_count": null,
   "metadata": {},
   "outputs": [],
   "source": [
    "df"
   ]
  },
  {
   "cell_type": "code",
   "execution_count": 20,
   "metadata": {},
   "outputs": [
    {
     "data": {
      "text/plain": [
       "Index(['Hogwarts House', 'First Name', 'Last Name', 'Birthday', 'Best Hand',\n",
       "       'Arithmancy', 'Astronomy', 'Herbology', 'Defense Against the Dark Arts',\n",
       "       'Divination', 'Muggle Studies', 'Ancient Runes', 'History of Magic',\n",
       "       'Transfiguration', 'Potions', 'Care of Magical Creatures', 'Charms',\n",
       "       'Flying'],\n",
       "      dtype='object')"
      ]
     },
     "execution_count": 20,
     "metadata": {},
     "output_type": "execute_result"
    }
   ],
   "source": [
    "df.columns"
   ]
  },
  {
   "cell_type": "code",
   "execution_count": 123,
   "metadata": {},
   "outputs": [
    {
     "data": {
      "text/html": [
       "<div>\n",
       "<style scoped>\n",
       "    .dataframe tbody tr th:only-of-type {\n",
       "        vertical-align: middle;\n",
       "    }\n",
       "\n",
       "    .dataframe tbody tr th {\n",
       "        vertical-align: top;\n",
       "    }\n",
       "\n",
       "    .dataframe thead th {\n",
       "        text-align: right;\n",
       "    }\n",
       "</style>\n",
       "<table border=\"1\" class=\"dataframe\">\n",
       "  <thead>\n",
       "    <tr style=\"text-align: right;\">\n",
       "      <th></th>\n",
       "      <th>Statistic</th>\n",
       "      <th>Hufflepuff</th>\n",
       "      <th>Ravenclaw</th>\n",
       "      <th>Gryffindor</th>\n",
       "      <th>Slytherin</th>\n",
       "      <th>total</th>\n",
       "    </tr>\n",
       "  </thead>\n",
       "  <tbody>\n",
       "    <tr>\n",
       "      <th>0</th>\n",
       "      <td>Count</td>\n",
       "      <td>415.00</td>\n",
       "      <td>351.00</td>\n",
       "      <td>261.00</td>\n",
       "      <td>224.00</td>\n",
       "      <td>1251.0</td>\n",
       "    </tr>\n",
       "    <tr>\n",
       "      <th>1</th>\n",
       "      <td>Percentage</td>\n",
       "      <td>33.17</td>\n",
       "      <td>28.06</td>\n",
       "      <td>20.86</td>\n",
       "      <td>17.91</td>\n",
       "      <td>100.0</td>\n",
       "    </tr>\n",
       "  </tbody>\n",
       "</table>\n",
       "</div>"
      ],
      "text/plain": [
       "    Statistic  Hufflepuff  Ravenclaw  Gryffindor  Slytherin   total\n",
       "0       Count      415.00     351.00      261.00     224.00  1251.0\n",
       "1  Percentage       33.17      28.06       20.86      17.91   100.0"
      ]
     },
     "execution_count": 123,
     "metadata": {},
     "output_type": "execute_result"
    }
   ],
   "source": [
    "df2 = df['Hogwarts House'].value_counts()\n",
    "df2['total'] = df2.sum()\n",
    "count = df2.values.astype(int)\n",
    "house = df2.index.tolist()\n",
    "percent = (count/count[-1] * 100).round(2)\n",
    "\n",
    "# Construct the DataFrame line by line\n",
    "data = {\n",
    "    'Statistic': ['Count', 'Percentage'],\n",
    "}\n",
    "\n",
    "for i in range(len(house)):\n",
    "    data[house[i]] = [count[i], percent[i]]\n",
    "\n",
    "df_repartition = pd.DataFrame(data)\n",
    "df_repartition"
   ]
  },
  {
   "cell_type": "code",
   "execution_count": 92,
   "metadata": {},
   "outputs": [
    {
     "data": {
      "text/html": [
       "<div>\n",
       "<style scoped>\n",
       "    .dataframe tbody tr th:only-of-type {\n",
       "        vertical-align: middle;\n",
       "    }\n",
       "\n",
       "    .dataframe tbody tr th {\n",
       "        vertical-align: top;\n",
       "    }\n",
       "\n",
       "    .dataframe thead th {\n",
       "        text-align: right;\n",
       "    }\n",
       "</style>\n",
       "<table border=\"1\" class=\"dataframe\">\n",
       "  <thead>\n",
       "    <tr style=\"text-align: right;\">\n",
       "      <th>House</th>\n",
       "      <th>Statistic</th>\n",
       "      <th>Hufflepuff</th>\n",
       "      <th>Ravenclaw</th>\n",
       "      <th>Gryffindor</th>\n",
       "      <th>Slytherin</th>\n",
       "      <th>total</th>\n",
       "    </tr>\n",
       "  </thead>\n",
       "  <tbody>\n",
       "    <tr>\n",
       "      <th>0</th>\n",
       "      <td>Count</td>\n",
       "      <td>415.00</td>\n",
       "      <td>351.00</td>\n",
       "      <td>261.00</td>\n",
       "      <td>224.00</td>\n",
       "      <td>1251.0</td>\n",
       "    </tr>\n",
       "    <tr>\n",
       "      <th>1</th>\n",
       "      <td>percentage</td>\n",
       "      <td>33.17</td>\n",
       "      <td>28.06</td>\n",
       "      <td>20.86</td>\n",
       "      <td>17.91</td>\n",
       "      <td>100.0</td>\n",
       "    </tr>\n",
       "  </tbody>\n",
       "</table>\n",
       "</div>"
      ],
      "text/plain": [
       "House   Statistic  Hufflepuff  Ravenclaw  Gryffindor  Slytherin   total\n",
       "0           Count      415.00     351.00      261.00     224.00  1251.0\n",
       "1      percentage       33.17      28.06       20.86      17.91   100.0"
      ]
     },
     "execution_count": 92,
     "metadata": {},
     "output_type": "execute_result"
    }
   ],
   "source": [
    "df3"
   ]
  },
  {
   "cell_type": "code",
   "execution_count": null,
   "metadata": {},
   "outputs": [],
   "source": [
    "df['Arithmancy'] = df['Arithmancy'].astype(float)"
   ]
  },
  {
   "cell_type": "code",
   "execution_count": null,
   "metadata": {},
   "outputs": [],
   "source": [
    "df.head()"
   ]
  },
  {
   "cell_type": "code",
   "execution_count": null,
   "metadata": {},
   "outputs": [],
   "source": [
    "df.describe()"
   ]
  },
  {
   "cell_type": "code",
   "execution_count": null,
   "metadata": {},
   "outputs": [],
   "source": [
    "numeric_columns = df.select_dtypes(include=['number'])\n",
    "numeric_columns"
   ]
  },
  {
   "cell_type": "code",
   "execution_count": null,
   "metadata": {},
   "outputs": [],
   "source": [
    "df.dtypes"
   ]
  },
  {
   "cell_type": "code",
   "execution_count": null,
   "metadata": {},
   "outputs": [],
   "source": [
    "df['Birthday'] = pd.to_datetime(df['Birthday'])"
   ]
  },
  {
   "cell_type": "code",
   "execution_count": null,
   "metadata": {},
   "outputs": [],
   "source": [
    "df.describe()"
   ]
  },
  {
   "cell_type": "code",
   "execution_count": null,
   "metadata": {},
   "outputs": [],
   "source": []
  }
 ],
 "metadata": {
  "kernelspec": {
   "display_name": "Python 3",
   "language": "python",
   "name": "python3"
  },
  "language_info": {
   "codemirror_mode": {
    "name": "ipython",
    "version": 3
   },
   "file_extension": ".py",
   "mimetype": "text/x-python",
   "name": "python",
   "nbconvert_exporter": "python",
   "pygments_lexer": "ipython3",
   "version": "3.10.14"
  }
 },
 "nbformat": 4,
 "nbformat_minor": 2
}
